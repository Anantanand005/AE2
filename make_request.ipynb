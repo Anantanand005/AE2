{
 "cells": [
  {
   "cell_type": "code",
   "id": "initial_id",
   "metadata": {
    "collapsed": true,
    "ExecuteTime": {
     "end_time": "2025-03-26T09:53:48.355186Z",
     "start_time": "2025-03-26T09:53:48.281010Z"
    }
   },
   "source": "import requests",
   "outputs": [],
   "execution_count": 1
  },
  {
   "metadata": {
    "ExecuteTime": {
     "end_time": "2025-03-26T10:18:52.735428Z",
     "start_time": "2025-03-26T10:18:52.720548Z"
    }
   },
   "cell_type": "code",
   "source": [
    "params = {\"age\": 10, \"bmi\": 500, \"bp\": 20}\n",
    "r = requests.get('http://127.0.0.1:5000/api/data', params)"
   ],
   "id": "feedb3d481ee22b7",
   "outputs": [],
   "execution_count": 5
  },
  {
   "metadata": {
    "ExecuteTime": {
     "end_time": "2025-03-26T10:02:45.105910Z",
     "start_time": "2025-03-26T10:02:45.103843Z"
    }
   },
   "cell_type": "code",
   "source": "",
   "id": "cc07ccc139c19fee",
   "outputs": [],
   "execution_count": null
  },
  {
   "metadata": {},
   "cell_type": "code",
   "outputs": [],
   "execution_count": null,
   "source": "",
   "id": "68b1b158fd3251b1"
  }
 ],
 "metadata": {
  "kernelspec": {
   "display_name": "Python 3",
   "language": "python",
   "name": "python3"
  },
  "language_info": {
   "codemirror_mode": {
    "name": "ipython",
    "version": 2
   },
   "file_extension": ".py",
   "mimetype": "text/x-python",
   "name": "python",
   "nbconvert_exporter": "python",
   "pygments_lexer": "ipython2",
   "version": "2.7.6"
  }
 },
 "nbformat": 4,
 "nbformat_minor": 5
}
